{
  "nbformat": 4,
  "nbformat_minor": 0,
  "metadata": {
    "colab": {
      "provenance": [],
      "authorship_tag": "ABX9TyNhWVMnj7DK4X7HoxtUjghf",
      "include_colab_link": true
    },
    "kernelspec": {
      "name": "python3",
      "display_name": "Python 3"
    },
    "language_info": {
      "name": "python"
    }
  },
  "cells": [
    {
      "cell_type": "markdown",
      "metadata": {
        "id": "view-in-github",
        "colab_type": "text"
      },
      "source": [
        "<a href=\"https://colab.research.google.com/github/dahlp94/Spark-with-Python/blob/main/spark_df.ipynb\" target=\"_parent\"><img src=\"https://colab.research.google.com/assets/colab-badge.svg\" alt=\"Open In Colab\"/></a>"
      ]
    },
    {
      "cell_type": "code",
      "execution_count": 1,
      "metadata": {
        "id": "GGx2f47yA0Mt"
      },
      "outputs": [],
      "source": [
        "# import libraries\n",
        "import yfinance as yf\n",
        "import pandas as pd"
      ]
    },
    {
      "cell_type": "code",
      "source": [
        "# Download Apple stock data\n",
        "ticker = \"AAPL\"\n",
        "start_date = \"2010-01-01\"\n",
        "end_date = \"2024-09-30\"\n",
        "\n",
        "apple_stock = yf.download(ticker, start=start_date, end=end_date)\n",
        "\n",
        "# Save the data to a CSV file\n",
        "apple_stock.to_csv(\"apple_stock_data.csv\")\n",
        "\n",
        "# Display the first few rows of the data\n",
        "print(apple_stock.head())\n",
        "\n",
        "# Provide a download link for the CSV file\n",
        "from google.colab import files\n",
        "files.download(\"apple_stock_data.csv\")"
      ],
      "metadata": {
        "colab": {
          "base_uri": "https://localhost:8080/",
          "height": 156
        },
        "id": "u4fgE1VvBW0F",
        "outputId": "958a9d68-e5da-4e91-a82a-3fb5e3f5726f"
      },
      "execution_count": 2,
      "outputs": [
        {
          "output_type": "stream",
          "name": "stderr",
          "text": [
            "\r[*********************100%***********************]  1 of 1 completed"
          ]
        },
        {
          "output_type": "stream",
          "name": "stdout",
          "text": [
            "                Open      High       Low     Close  Adj Close     Volume\n",
            "Date                                                                    \n",
            "2010-01-04  7.622500  7.660714  7.585000  7.643214   6.454505  493729600\n",
            "2010-01-05  7.664286  7.699643  7.616071  7.656429   6.465665  601904800\n",
            "2010-01-06  7.656429  7.686786  7.526786  7.534643   6.362819  552160000\n",
            "2010-01-07  7.562500  7.571429  7.466071  7.520714   6.351057  477131200\n",
            "2010-01-08  7.510714  7.571429  7.466429  7.570714   6.393281  447610800\n"
          ]
        },
        {
          "output_type": "stream",
          "name": "stderr",
          "text": [
            "\n"
          ]
        },
        {
          "output_type": "display_data",
          "data": {
            "text/plain": [
              "<IPython.core.display.Javascript object>"
            ],
            "application/javascript": [
              "\n",
              "    async function download(id, filename, size) {\n",
              "      if (!google.colab.kernel.accessAllowed) {\n",
              "        return;\n",
              "      }\n",
              "      const div = document.createElement('div');\n",
              "      const label = document.createElement('label');\n",
              "      label.textContent = `Downloading \"${filename}\": `;\n",
              "      div.appendChild(label);\n",
              "      const progress = document.createElement('progress');\n",
              "      progress.max = size;\n",
              "      div.appendChild(progress);\n",
              "      document.body.appendChild(div);\n",
              "\n",
              "      const buffers = [];\n",
              "      let downloaded = 0;\n",
              "\n",
              "      const channel = await google.colab.kernel.comms.open(id);\n",
              "      // Send a message to notify the kernel that we're ready.\n",
              "      channel.send({})\n",
              "\n",
              "      for await (const message of channel.messages) {\n",
              "        // Send a message to notify the kernel that we're ready.\n",
              "        channel.send({})\n",
              "        if (message.buffers) {\n",
              "          for (const buffer of message.buffers) {\n",
              "            buffers.push(buffer);\n",
              "            downloaded += buffer.byteLength;\n",
              "            progress.value = downloaded;\n",
              "          }\n",
              "        }\n",
              "      }\n",
              "      const blob = new Blob(buffers, {type: 'application/binary'});\n",
              "      const a = document.createElement('a');\n",
              "      a.href = window.URL.createObjectURL(blob);\n",
              "      a.download = filename;\n",
              "      div.appendChild(a);\n",
              "      a.click();\n",
              "      div.remove();\n",
              "    }\n",
              "  "
            ]
          },
          "metadata": {}
        },
        {
          "output_type": "display_data",
          "data": {
            "text/plain": [
              "<IPython.core.display.Javascript object>"
            ],
            "application/javascript": [
              "download(\"download_cd9cf596-fb26-48ec-a6ce-057a857b8dcb\", \"apple_stock_data.csv\", 410578)"
            ]
          },
          "metadata": {}
        }
      ]
    },
    {
      "cell_type": "code",
      "source": [
        "# Download pyspark\n",
        "!pip install pyspark"
      ],
      "metadata": {
        "colab": {
          "base_uri": "https://localhost:8080/"
        },
        "id": "KJbPn66aBevS",
        "outputId": "6976c96d-7230-412e-fa42-8449e585935a"
      },
      "execution_count": 3,
      "outputs": [
        {
          "output_type": "stream",
          "name": "stdout",
          "text": [
            "Collecting pyspark\n",
            "  Downloading pyspark-3.5.3.tar.gz (317.3 MB)\n",
            "\u001b[2K     \u001b[90m━━━━━━━━━━━━━━━━━━━━━━━━━━━━━━━━━━━━━━━━\u001b[0m \u001b[32m317.3/317.3 MB\u001b[0m \u001b[31m4.3 MB/s\u001b[0m eta \u001b[36m0:00:00\u001b[0m\n",
            "\u001b[?25h  Preparing metadata (setup.py) ... \u001b[?25l\u001b[?25hdone\n",
            "Requirement already satisfied: py4j==0.10.9.7 in /usr/local/lib/python3.10/dist-packages (from pyspark) (0.10.9.7)\n",
            "Building wheels for collected packages: pyspark\n",
            "  Building wheel for pyspark (setup.py) ... \u001b[?25l\u001b[?25hdone\n",
            "  Created wheel for pyspark: filename=pyspark-3.5.3-py2.py3-none-any.whl size=317840625 sha256=9bd90a54bbef52616d5f75735f420f33493638f174ae7cf64a5fcbb4bfe7669c\n",
            "  Stored in directory: /root/.cache/pip/wheels/1b/3a/92/28b93e2fbfdbb07509ca4d6f50c5e407f48dce4ddbda69a4ab\n",
            "Successfully built pyspark\n",
            "Installing collected packages: pyspark\n",
            "Successfully installed pyspark-3.5.3\n"
          ]
        }
      ]
    },
    {
      "cell_type": "code",
      "source": [
        "from pyspark.sql import SparkSession\n",
        "spark1 = SparkSession.builder.appName('Ops').getOrCreate()\n",
        "df = spark1.read.csv('/content/apple_stock_data.csv',inferSchema=True,header=True)"
      ],
      "metadata": {
        "id": "hYNOo-S2BsRm"
      },
      "execution_count": 4,
      "outputs": []
    },
    {
      "cell_type": "code",
      "source": [
        "df.printSchema()"
      ],
      "metadata": {
        "colab": {
          "base_uri": "https://localhost:8080/"
        },
        "id": "pqhv1OwQB4rq",
        "outputId": "7e994059-ac86-49c7-8be4-6a9e609725b9"
      },
      "execution_count": 5,
      "outputs": [
        {
          "output_type": "stream",
          "name": "stdout",
          "text": [
            "root\n",
            " |-- Date: date (nullable = true)\n",
            " |-- Open: double (nullable = true)\n",
            " |-- High: double (nullable = true)\n",
            " |-- Low: double (nullable = true)\n",
            " |-- Close: double (nullable = true)\n",
            " |-- Adj Close: double (nullable = true)\n",
            " |-- Volume: integer (nullable = true)\n",
            "\n"
          ]
        }
      ]
    },
    {
      "cell_type": "code",
      "source": [
        "df.show()"
      ],
      "metadata": {
        "colab": {
          "base_uri": "https://localhost:8080/"
        },
        "id": "hDZuJx6OB6zF",
        "outputId": "f5035164-531a-44e0-9b41-175fb9fe364e"
      },
      "execution_count": 6,
      "outputs": [
        {
          "output_type": "stream",
          "name": "stdout",
          "text": [
            "+----------+------------------+------------------+------------------+------------------+------------------+----------+\n",
            "|      Date|              Open|              High|               Low|             Close|         Adj Close|    Volume|\n",
            "+----------+------------------+------------------+------------------+------------------+------------------+----------+\n",
            "|2010-01-04| 7.622499942779541| 7.660714149475098| 7.585000038146973| 7.643214225769043|  6.45450496673584| 493729600|\n",
            "|2010-01-05| 7.664286136627197| 7.699643135070801|7.6160712242126465| 7.656428813934326| 6.465664863586426| 601904800|\n",
            "|2010-01-06| 7.656428813934326|  7.68678617477417| 7.526785850524902| 7.534643173217773| 6.362818717956543| 552160000|\n",
            "|2010-01-07|            7.5625|7.5714287757873535| 7.466071128845215| 7.520713806152344|6.3510565757751465| 477131200|\n",
            "|2010-01-08| 7.510714054107666|7.5714287757873535| 7.466429233551025| 7.570713996887207| 6.393280506134033| 447610800|\n",
            "|2010-01-11| 7.599999904632568| 7.607142925262451| 7.444643020629883| 7.503929138183594| 6.336884498596191| 462229600|\n",
            "|2010-01-12| 7.471070766448975| 7.491786003112793| 7.372142791748047|7.4185709953308105| 6.264800071716309| 594459600|\n",
            "|2010-01-13| 7.423929214477539| 7.533214092254639| 7.289286136627197| 7.523213863372803|6.3531670570373535| 605892000|\n",
            "|2010-01-14| 7.503929138183594|7.5164289474487305| 7.465000152587891| 7.479642868041992|   6.3163743019104| 432894000|\n",
            "|2010-01-15| 7.533214092254639| 7.557143211364746| 7.352499961853027| 7.354642868041992| 6.210813522338867| 594067600|\n",
            "|2010-01-19| 7.440357208251953| 7.685357093811035| 7.401429176330566| 7.679999828338623| 6.485568523406982| 730007600|\n",
            "|2010-01-20| 7.675356864929199| 7.698214054107666| 7.482142925262451|  7.56178617477417| 6.385741710662842| 612152800|\n",
            "|2010-01-21| 7.574285984039307| 7.618214130401611| 7.400356769561768| 7.431070804595947| 6.275354862213135| 608154400|\n",
            "|2010-01-22| 7.385000228881836| 7.410714149475098| 7.041429042816162|            7.0625|  5.96410608291626| 881767600|\n",
            "|2010-01-25| 7.232500076293945| 7.310713768005371|7.1496429443359375| 7.252500057220459|6.1245574951171875|1065699600|\n",
            "|2010-01-26|7.3553571701049805| 7.632500171661377| 7.235000133514404| 7.355000019073486| 6.211115837097168|1867110000|\n",
            "|2010-01-27| 7.387499809265137| 7.520713806152344| 7.126070976257324| 7.424285888671875| 6.269626140594482|1722568400|\n",
            "|2010-01-28| 7.318929195404053| 7.339285850524902| 7.096428871154785| 7.117499828338623| 6.010552883148193|1173502400|\n",
            "|2010-01-29| 7.181428909301758| 7.221428871154785| 6.794642925262451| 6.859285831451416| 5.792496681213379|1245952400|\n",
            "|2010-02-01| 6.870357036590576|               7.0|6.8321428298950195|6.9546427726745605| 5.873022556304932| 749876400|\n",
            "+----------+------------------+------------------+------------------+------------------+------------------+----------+\n",
            "only showing top 20 rows\n",
            "\n"
          ]
        }
      ]
    },
    {
      "cell_type": "code",
      "source": [
        "%%time\n",
        "df.head(1)[0]"
      ],
      "metadata": {
        "colab": {
          "base_uri": "https://localhost:8080/"
        },
        "id": "bZVct7vbCJEJ",
        "outputId": "dd61c2af-9eab-4c16-aaf0-eb5a5731b820"
      },
      "execution_count": 7,
      "outputs": [
        {
          "output_type": "stream",
          "name": "stdout",
          "text": [
            "CPU times: user 12.4 ms, sys: 1.1 ms, total: 13.5 ms\n",
            "Wall time: 387 ms\n"
          ]
        },
        {
          "output_type": "execute_result",
          "data": {
            "text/plain": [
              "Row(Date=datetime.date(2010, 1, 4), Open=7.622499942779541, High=7.660714149475098, Low=7.585000038146973, Close=7.643214225769043, Adj Close=6.45450496673584, Volume=493729600)"
            ]
          },
          "metadata": {},
          "execution_count": 7
        }
      ]
    },
    {
      "cell_type": "code",
      "source": [
        "type(df.head(2)[0])"
      ],
      "metadata": {
        "colab": {
          "base_uri": "https://localhost:8080/",
          "height": 186
        },
        "id": "7WuDgFypCLga",
        "outputId": "16efc527-0004-4f92-e625-145fedad5e46"
      },
      "execution_count": 8,
      "outputs": [
        {
          "output_type": "execute_result",
          "data": {
            "text/plain": [
              "pyspark.sql.types.Row"
            ],
            "text/html": [
              "<div style=\"max-width:800px; border: 1px solid var(--colab-border-color);\"><style>\n",
              "      pre.function-repr-contents {\n",
              "        overflow-x: auto;\n",
              "        padding: 8px 12px;\n",
              "        max-height: 500px;\n",
              "      }\n",
              "\n",
              "      pre.function-repr-contents.function-repr-contents-collapsed {\n",
              "        cursor: pointer;\n",
              "        max-height: 100px;\n",
              "      }\n",
              "    </style>\n",
              "    <pre style=\"white-space: initial; background:\n",
              "         var(--colab-secondary-surface-color); padding: 8px 12px;\n",
              "         border-bottom: 1px solid var(--colab-border-color);\"><b>pyspark.sql.types.Row</b><br/>def __call__(*args: Any) -&gt; &#x27;Row&#x27;</pre><pre class=\"function-repr-contents function-repr-contents-collapsed\" style=\"\"><a class=\"filepath\" style=\"display:none\" href=\"#\">/usr/local/lib/python3.10/dist-packages/pyspark/sql/types.py</a>A row in :class:`DataFrame`.\n",
              "The fields in it can be accessed:\n",
              "\n",
              "* like attributes (``row.key``)\n",
              "* like dictionary values (``row[key]``)\n",
              "\n",
              "``key in row`` will search through row keys.\n",
              "\n",
              "Row can be used to create a row object by using named arguments.\n",
              "It is not allowed to omit a named argument to represent that the value is\n",
              "None or missing. This should be explicitly set to None in this case.\n",
              "\n",
              ".. versionchanged:: 3.0.0\n",
              "    Rows created from named arguments no longer have\n",
              "    field names sorted alphabetically and will be ordered in the position as\n",
              "    entered.\n",
              "\n",
              "Examples\n",
              "--------\n",
              "&gt;&gt;&gt; from pyspark.sql import Row\n",
              "&gt;&gt;&gt; row = Row(name=&quot;Alice&quot;, age=11)\n",
              "&gt;&gt;&gt; row\n",
              "Row(name=&#x27;Alice&#x27;, age=11)\n",
              "&gt;&gt;&gt; row[&#x27;name&#x27;], row[&#x27;age&#x27;]\n",
              "(&#x27;Alice&#x27;, 11)\n",
              "&gt;&gt;&gt; row.name, row.age\n",
              "(&#x27;Alice&#x27;, 11)\n",
              "&gt;&gt;&gt; &#x27;name&#x27; in row\n",
              "True\n",
              "&gt;&gt;&gt; &#x27;wrong_key&#x27; in row\n",
              "False\n",
              "\n",
              "Row also can be used to create another Row like class, then it\n",
              "could be used to create Row objects, such as\n",
              "\n",
              "&gt;&gt;&gt; Person = Row(&quot;name&quot;, &quot;age&quot;)\n",
              "&gt;&gt;&gt; Person\n",
              "&lt;Row(&#x27;name&#x27;, &#x27;age&#x27;)&gt;\n",
              "&gt;&gt;&gt; &#x27;name&#x27; in Person\n",
              "True\n",
              "&gt;&gt;&gt; &#x27;wrong_key&#x27; in Person\n",
              "False\n",
              "&gt;&gt;&gt; Person(&quot;Alice&quot;, 11)\n",
              "Row(name=&#x27;Alice&#x27;, age=11)\n",
              "\n",
              "This form can also be used to create rows as tuple values, i.e. with unnamed\n",
              "fields.\n",
              "\n",
              "&gt;&gt;&gt; row1 = Row(&quot;Alice&quot;, 11)\n",
              "&gt;&gt;&gt; row2 = Row(name=&quot;Alice&quot;, age=11)\n",
              "&gt;&gt;&gt; row1 == row2\n",
              "True</pre>\n",
              "      <script>\n",
              "      if (google.colab.kernel.accessAllowed && google.colab.files && google.colab.files.view) {\n",
              "        for (const element of document.querySelectorAll('.filepath')) {\n",
              "          element.style.display = 'block'\n",
              "          element.onclick = (event) => {\n",
              "            event.preventDefault();\n",
              "            event.stopPropagation();\n",
              "            google.colab.files.view(element.textContent, 2219);\n",
              "          };\n",
              "        }\n",
              "      }\n",
              "      for (const element of document.querySelectorAll('.function-repr-contents')) {\n",
              "        element.onclick = (event) => {\n",
              "          event.preventDefault();\n",
              "          event.stopPropagation();\n",
              "          element.classList.toggle('function-repr-contents-collapsed');\n",
              "        };\n",
              "      }\n",
              "      </script>\n",
              "      </div>"
            ]
          },
          "metadata": {},
          "execution_count": 8
        }
      ]
    },
    {
      "cell_type": "code",
      "source": [
        "type(df['High'])"
      ],
      "metadata": {
        "colab": {
          "base_uri": "https://localhost:8080/",
          "height": 186
        },
        "id": "doqDgBcQCSS5",
        "outputId": "70a91d8f-ff09-464f-e770-c8a17f451775"
      },
      "execution_count": 9,
      "outputs": [
        {
          "output_type": "execute_result",
          "data": {
            "text/plain": [
              "pyspark.sql.column.Column"
            ],
            "text/html": [
              "<div style=\"max-width:800px; border: 1px solid var(--colab-border-color);\"><style>\n",
              "      pre.function-repr-contents {\n",
              "        overflow-x: auto;\n",
              "        padding: 8px 12px;\n",
              "        max-height: 500px;\n",
              "      }\n",
              "\n",
              "      pre.function-repr-contents.function-repr-contents-collapsed {\n",
              "        cursor: pointer;\n",
              "        max-height: 100px;\n",
              "      }\n",
              "    </style>\n",
              "    <pre style=\"white-space: initial; background:\n",
              "         var(--colab-secondary-surface-color); padding: 8px 12px;\n",
              "         border-bottom: 1px solid var(--colab-border-color);\"><b>pyspark.sql.column.Column</b><br/>def __init__(jc: JavaObject) -&gt; None</pre><pre class=\"function-repr-contents function-repr-contents-collapsed\" style=\"\"><a class=\"filepath\" style=\"display:none\" href=\"#\">/usr/local/lib/python3.10/dist-packages/pyspark/sql/column.py</a>A column in a DataFrame.\n",
              "\n",
              ".. versionadded:: 1.3.0\n",
              "\n",
              ".. versionchanged:: 3.4.0\n",
              "    Supports Spark Connect.\n",
              "\n",
              "Examples\n",
              "--------\n",
              "Column instances can be created by\n",
              "\n",
              "&gt;&gt;&gt; df = spark.createDataFrame(\n",
              "...      [(2, &quot;Alice&quot;), (5, &quot;Bob&quot;)], [&quot;age&quot;, &quot;name&quot;])\n",
              "\n",
              "Select a column out of a DataFrame\n",
              "&gt;&gt;&gt; df.name\n",
              "Column&lt;&#x27;name&#x27;&gt;\n",
              "&gt;&gt;&gt; df[&quot;name&quot;]\n",
              "Column&lt;&#x27;name&#x27;&gt;\n",
              "\n",
              "Create from an expression\n",
              "\n",
              "&gt;&gt;&gt; df.age + 1\n",
              "Column&lt;...&gt;\n",
              "&gt;&gt;&gt; 1 / df.age\n",
              "Column&lt;...&gt;</pre>\n",
              "      <script>\n",
              "      if (google.colab.kernel.accessAllowed && google.colab.files && google.colab.files.view) {\n",
              "        for (const element of document.querySelectorAll('.filepath')) {\n",
              "          element.style.display = 'block'\n",
              "          element.onclick = (event) => {\n",
              "            event.preventDefault();\n",
              "            event.stopPropagation();\n",
              "            google.colab.files.view(element.textContent, 185);\n",
              "          };\n",
              "        }\n",
              "      }\n",
              "      for (const element of document.querySelectorAll('.function-repr-contents')) {\n",
              "        element.onclick = (event) => {\n",
              "          event.preventDefault();\n",
              "          event.stopPropagation();\n",
              "          element.classList.toggle('function-repr-contents-collapsed');\n",
              "        };\n",
              "      }\n",
              "      </script>\n",
              "      </div>"
            ]
          },
          "metadata": {},
          "execution_count": 9
        }
      ]
    },
    {
      "cell_type": "code",
      "source": [
        "df.select('High')"
      ],
      "metadata": {
        "colab": {
          "base_uri": "https://localhost:8080/"
        },
        "id": "Hesix7rlCS8B",
        "outputId": "07de2462-c793-4844-e6b2-68944261e1eb"
      },
      "execution_count": 10,
      "outputs": [
        {
          "output_type": "execute_result",
          "data": {
            "text/plain": [
              "DataFrame[High: double]"
            ]
          },
          "metadata": {},
          "execution_count": 10
        }
      ]
    },
    {
      "cell_type": "code",
      "source": [
        "df.select('High').show()"
      ],
      "metadata": {
        "colab": {
          "base_uri": "https://localhost:8080/"
        },
        "id": "dsDlxDovCU4E",
        "outputId": "4d4c0dac-aa67-41a3-e68c-bcdbcf746964"
      },
      "execution_count": 11,
      "outputs": [
        {
          "output_type": "stream",
          "name": "stdout",
          "text": [
            "+------------------+\n",
            "|              High|\n",
            "+------------------+\n",
            "| 7.660714149475098|\n",
            "| 7.699643135070801|\n",
            "|  7.68678617477417|\n",
            "|7.5714287757873535|\n",
            "|7.5714287757873535|\n",
            "| 7.607142925262451|\n",
            "| 7.491786003112793|\n",
            "| 7.533214092254639|\n",
            "|7.5164289474487305|\n",
            "| 7.557143211364746|\n",
            "| 7.685357093811035|\n",
            "| 7.698214054107666|\n",
            "| 7.618214130401611|\n",
            "| 7.410714149475098|\n",
            "| 7.310713768005371|\n",
            "| 7.632500171661377|\n",
            "| 7.520713806152344|\n",
            "| 7.339285850524902|\n",
            "| 7.221428871154785|\n",
            "|               7.0|\n",
            "+------------------+\n",
            "only showing top 20 rows\n",
            "\n"
          ]
        }
      ]
    },
    {
      "cell_type": "code",
      "source": [
        "df.select(['High','Close']).show()"
      ],
      "metadata": {
        "colab": {
          "base_uri": "https://localhost:8080/"
        },
        "id": "lQXoo_YfCWRR",
        "outputId": "38b0482a-207d-451c-835a-9eeb17fd9938"
      },
      "execution_count": 12,
      "outputs": [
        {
          "output_type": "stream",
          "name": "stdout",
          "text": [
            "+------------------+------------------+\n",
            "|              High|             Close|\n",
            "+------------------+------------------+\n",
            "| 7.660714149475098| 7.643214225769043|\n",
            "| 7.699643135070801| 7.656428813934326|\n",
            "|  7.68678617477417| 7.534643173217773|\n",
            "|7.5714287757873535| 7.520713806152344|\n",
            "|7.5714287757873535| 7.570713996887207|\n",
            "| 7.607142925262451| 7.503929138183594|\n",
            "| 7.491786003112793|7.4185709953308105|\n",
            "| 7.533214092254639| 7.523213863372803|\n",
            "|7.5164289474487305| 7.479642868041992|\n",
            "| 7.557143211364746| 7.354642868041992|\n",
            "| 7.685357093811035| 7.679999828338623|\n",
            "| 7.698214054107666|  7.56178617477417|\n",
            "| 7.618214130401611| 7.431070804595947|\n",
            "| 7.410714149475098|            7.0625|\n",
            "| 7.310713768005371| 7.252500057220459|\n",
            "| 7.632500171661377| 7.355000019073486|\n",
            "| 7.520713806152344| 7.424285888671875|\n",
            "| 7.339285850524902| 7.117499828338623|\n",
            "| 7.221428871154785| 6.859285831451416|\n",
            "|               7.0|6.9546427726745605|\n",
            "+------------------+------------------+\n",
            "only showing top 20 rows\n",
            "\n"
          ]
        }
      ]
    },
    {
      "cell_type": "markdown",
      "source": [
        "Applying limit() to a DataFrame in PySpark creates a new DataFrame, which is a transformation. This transformation does not immediately fetch data from the distributed storage. To collect the results, you'll need to use an action like collect(). Other methods like take() and head() also return a collection of rows (specifically, a Scala Array or a Python list) but do not create a new DataFrame"
      ],
      "metadata": {
        "id": "DUxNwnOpCbEa"
      }
    },
    {
      "cell_type": "code",
      "source": [
        "df.limit(5)"
      ],
      "metadata": {
        "colab": {
          "base_uri": "https://localhost:8080/"
        },
        "id": "6hrWSzuuCYO5",
        "outputId": "cf1211ca-dbc0-44f8-f0f7-0f97759ad116"
      },
      "execution_count": 13,
      "outputs": [
        {
          "output_type": "execute_result",
          "data": {
            "text/plain": [
              "DataFrame[Date: date, Open: double, High: double, Low: double, Close: double, Adj Close: double, Volume: int]"
            ]
          },
          "metadata": {},
          "execution_count": 13
        }
      ]
    },
    {
      "cell_type": "code",
      "source": [
        "df.limit(5).show()"
      ],
      "metadata": {
        "colab": {
          "base_uri": "https://localhost:8080/"
        },
        "id": "6DIb9BBjCfYx",
        "outputId": "4f6033d8-0410-4765-9fc4-4c8c7e0bbf3e"
      },
      "execution_count": 14,
      "outputs": [
        {
          "output_type": "stream",
          "name": "stdout",
          "text": [
            "+----------+-----------------+------------------+------------------+-----------------+------------------+---------+\n",
            "|      Date|             Open|              High|               Low|            Close|         Adj Close|   Volume|\n",
            "+----------+-----------------+------------------+------------------+-----------------+------------------+---------+\n",
            "|2010-01-04|7.622499942779541| 7.660714149475098| 7.585000038146973|7.643214225769043|  6.45450496673584|493729600|\n",
            "|2010-01-05|7.664286136627197| 7.699643135070801|7.6160712242126465|7.656428813934326| 6.465664863586426|601904800|\n",
            "|2010-01-06|7.656428813934326|  7.68678617477417| 7.526785850524902|7.534643173217773| 6.362818717956543|552160000|\n",
            "|2010-01-07|           7.5625|7.5714287757873535| 7.466071128845215|7.520713806152344|6.3510565757751465|477131200|\n",
            "|2010-01-08|7.510714054107666|7.5714287757873535| 7.466429233551025|7.570713996887207| 6.393280506134033|447610800|\n",
            "+----------+-----------------+------------------+------------------+-----------------+------------------+---------+\n",
            "\n"
          ]
        }
      ]
    },
    {
      "cell_type": "code",
      "source": [
        "df.head(2)"
      ],
      "metadata": {
        "colab": {
          "base_uri": "https://localhost:8080/"
        },
        "id": "fgnjaw_FCgl5",
        "outputId": "a5f19839-e4f1-4479-de7d-eab53660f89e"
      },
      "execution_count": 15,
      "outputs": [
        {
          "output_type": "execute_result",
          "data": {
            "text/plain": [
              "[Row(Date=datetime.date(2010, 1, 4), Open=7.622499942779541, High=7.660714149475098, Low=7.585000038146973, Close=7.643214225769043, Adj Close=6.45450496673584, Volume=493729600),\n",
              " Row(Date=datetime.date(2010, 1, 5), Open=7.664286136627197, High=7.699643135070801, Low=7.6160712242126465, Close=7.656428813934326, Adj Close=6.465664863586426, Volume=601904800)]"
            ]
          },
          "metadata": {},
          "execution_count": 15
        }
      ]
    },
    {
      "cell_type": "code",
      "source": [
        "dict1=df.head(2)[0].asDict()"
      ],
      "metadata": {
        "id": "NJJWG9gSClCG"
      },
      "execution_count": 16,
      "outputs": []
    },
    {
      "cell_type": "code",
      "source": [
        "dict1"
      ],
      "metadata": {
        "colab": {
          "base_uri": "https://localhost:8080/"
        },
        "id": "9xSGPj8eClav",
        "outputId": "1219027f-9ae2-42d6-d200-57b34ca2e5b9"
      },
      "execution_count": 17,
      "outputs": [
        {
          "output_type": "execute_result",
          "data": {
            "text/plain": [
              "{'Date': datetime.date(2010, 1, 4),\n",
              " 'Open': 7.622499942779541,\n",
              " 'High': 7.660714149475098,\n",
              " 'Low': 7.585000038146973,\n",
              " 'Close': 7.643214225769043,\n",
              " 'Adj Close': 6.45450496673584,\n",
              " 'Volume': 493729600}"
            ]
          },
          "metadata": {},
          "execution_count": 17
        }
      ]
    },
    {
      "cell_type": "code",
      "source": [
        "df.count() # number of rows"
      ],
      "metadata": {
        "colab": {
          "base_uri": "https://localhost:8080/"
        },
        "id": "vMPwA9j0CnHN",
        "outputId": "2e872fae-2503-4ba8-cd75-c444ed22d555"
      },
      "execution_count": 18,
      "outputs": [
        {
          "output_type": "execute_result",
          "data": {
            "text/plain": [
              "3709"
            ]
          },
          "metadata": {},
          "execution_count": 18
        }
      ]
    },
    {
      "cell_type": "code",
      "source": [
        "# Conditional\n",
        "df.filter('Close < 500').show()"
      ],
      "metadata": {
        "colab": {
          "base_uri": "https://localhost:8080/"
        },
        "id": "7UcfEKGWCopP",
        "outputId": "80ff2b0f-5f7a-4e6b-b9d3-34473c1863e4"
      },
      "execution_count": 19,
      "outputs": [
        {
          "output_type": "stream",
          "name": "stdout",
          "text": [
            "+----------+------------------+------------------+------------------+------------------+------------------+----------+\n",
            "|      Date|              Open|              High|               Low|             Close|         Adj Close|    Volume|\n",
            "+----------+------------------+------------------+------------------+------------------+------------------+----------+\n",
            "|2010-01-04| 7.622499942779541| 7.660714149475098| 7.585000038146973| 7.643214225769043|  6.45450496673584| 493729600|\n",
            "|2010-01-05| 7.664286136627197| 7.699643135070801|7.6160712242126465| 7.656428813934326| 6.465664863586426| 601904800|\n",
            "|2010-01-06| 7.656428813934326|  7.68678617477417| 7.526785850524902| 7.534643173217773| 6.362818717956543| 552160000|\n",
            "|2010-01-07|            7.5625|7.5714287757873535| 7.466071128845215| 7.520713806152344|6.3510565757751465| 477131200|\n",
            "|2010-01-08| 7.510714054107666|7.5714287757873535| 7.466429233551025| 7.570713996887207| 6.393280506134033| 447610800|\n",
            "|2010-01-11| 7.599999904632568| 7.607142925262451| 7.444643020629883| 7.503929138183594| 6.336884498596191| 462229600|\n",
            "|2010-01-12| 7.471070766448975| 7.491786003112793| 7.372142791748047|7.4185709953308105| 6.264800071716309| 594459600|\n",
            "|2010-01-13| 7.423929214477539| 7.533214092254639| 7.289286136627197| 7.523213863372803|6.3531670570373535| 605892000|\n",
            "|2010-01-14| 7.503929138183594|7.5164289474487305| 7.465000152587891| 7.479642868041992|   6.3163743019104| 432894000|\n",
            "|2010-01-15| 7.533214092254639| 7.557143211364746| 7.352499961853027| 7.354642868041992| 6.210813522338867| 594067600|\n",
            "|2010-01-19| 7.440357208251953| 7.685357093811035| 7.401429176330566| 7.679999828338623| 6.485568523406982| 730007600|\n",
            "|2010-01-20| 7.675356864929199| 7.698214054107666| 7.482142925262451|  7.56178617477417| 6.385741710662842| 612152800|\n",
            "|2010-01-21| 7.574285984039307| 7.618214130401611| 7.400356769561768| 7.431070804595947| 6.275354862213135| 608154400|\n",
            "|2010-01-22| 7.385000228881836| 7.410714149475098| 7.041429042816162|            7.0625|  5.96410608291626| 881767600|\n",
            "|2010-01-25| 7.232500076293945| 7.310713768005371|7.1496429443359375| 7.252500057220459|6.1245574951171875|1065699600|\n",
            "|2010-01-26|7.3553571701049805| 7.632500171661377| 7.235000133514404| 7.355000019073486| 6.211115837097168|1867110000|\n",
            "|2010-01-27| 7.387499809265137| 7.520713806152344| 7.126070976257324| 7.424285888671875| 6.269626140594482|1722568400|\n",
            "|2010-01-28| 7.318929195404053| 7.339285850524902| 7.096428871154785| 7.117499828338623| 6.010552883148193|1173502400|\n",
            "|2010-01-29| 7.181428909301758| 7.221428871154785| 6.794642925262451| 6.859285831451416| 5.792496681213379|1245952400|\n",
            "|2010-02-01| 6.870357036590576|               7.0|6.8321428298950195|6.9546427726745605| 5.873022556304932| 749876400|\n",
            "+----------+------------------+------------------+------------------+------------------+------------------+----------+\n",
            "only showing top 20 rows\n",
            "\n"
          ]
        }
      ]
    },
    {
      "cell_type": "code",
      "source": [
        "# Opening price of every stock where Close price is less than 500\n",
        "df.filter('Close < 500').select('Open').show()"
      ],
      "metadata": {
        "colab": {
          "base_uri": "https://localhost:8080/"
        },
        "id": "0IZGix6dCu2Y",
        "outputId": "2cf39f92-5bc0-4b6e-c526-a45a810e83cd"
      },
      "execution_count": 20,
      "outputs": [
        {
          "output_type": "stream",
          "name": "stdout",
          "text": [
            "+------------------+\n",
            "|              Open|\n",
            "+------------------+\n",
            "| 7.622499942779541|\n",
            "| 7.664286136627197|\n",
            "| 7.656428813934326|\n",
            "|            7.5625|\n",
            "| 7.510714054107666|\n",
            "| 7.599999904632568|\n",
            "| 7.471070766448975|\n",
            "| 7.423929214477539|\n",
            "| 7.503929138183594|\n",
            "| 7.533214092254639|\n",
            "| 7.440357208251953|\n",
            "| 7.675356864929199|\n",
            "| 7.574285984039307|\n",
            "| 7.385000228881836|\n",
            "| 7.232500076293945|\n",
            "|7.3553571701049805|\n",
            "| 7.387499809265137|\n",
            "| 7.318929195404053|\n",
            "| 7.181428909301758|\n",
            "| 6.870357036590576|\n",
            "+------------------+\n",
            "only showing top 20 rows\n",
            "\n"
          ]
        }
      ]
    },
    {
      "cell_type": "code",
      "source": [
        "df.filter('Close < 500').select(['Open', 'Close']).show()"
      ],
      "metadata": {
        "colab": {
          "base_uri": "https://localhost:8080/"
        },
        "id": "YUhaF9l0Cytz",
        "outputId": "d3d6a737-a68d-4b21-9c84-2b17f01b113d"
      },
      "execution_count": 21,
      "outputs": [
        {
          "output_type": "stream",
          "name": "stdout",
          "text": [
            "+------------------+------------------+\n",
            "|              Open|             Close|\n",
            "+------------------+------------------+\n",
            "| 7.622499942779541| 7.643214225769043|\n",
            "| 7.664286136627197| 7.656428813934326|\n",
            "| 7.656428813934326| 7.534643173217773|\n",
            "|            7.5625| 7.520713806152344|\n",
            "| 7.510714054107666| 7.570713996887207|\n",
            "| 7.599999904632568| 7.503929138183594|\n",
            "| 7.471070766448975|7.4185709953308105|\n",
            "| 7.423929214477539| 7.523213863372803|\n",
            "| 7.503929138183594| 7.479642868041992|\n",
            "| 7.533214092254639| 7.354642868041992|\n",
            "| 7.440357208251953| 7.679999828338623|\n",
            "| 7.675356864929199|  7.56178617477417|\n",
            "| 7.574285984039307| 7.431070804595947|\n",
            "| 7.385000228881836|            7.0625|\n",
            "| 7.232500076293945| 7.252500057220459|\n",
            "|7.3553571701049805| 7.355000019073486|\n",
            "| 7.387499809265137| 7.424285888671875|\n",
            "| 7.318929195404053| 7.117499828338623|\n",
            "| 7.181428909301758| 6.859285831451416|\n",
            "| 6.870357036590576|6.9546427726745605|\n",
            "+------------------+------------------+\n",
            "only showing top 20 rows\n",
            "\n"
          ]
        }
      ]
    },
    {
      "cell_type": "code",
      "source": [
        "df.filter(df['Close'] < 500).show()"
      ],
      "metadata": {
        "colab": {
          "base_uri": "https://localhost:8080/"
        },
        "id": "9E5ugLbGC0za",
        "outputId": "50d72bb6-151b-4a8b-b932-6a2d2fa6caa6"
      },
      "execution_count": 22,
      "outputs": [
        {
          "output_type": "stream",
          "name": "stdout",
          "text": [
            "+----------+------------------+------------------+------------------+------------------+------------------+----------+\n",
            "|      Date|              Open|              High|               Low|             Close|         Adj Close|    Volume|\n",
            "+----------+------------------+------------------+------------------+------------------+------------------+----------+\n",
            "|2010-01-04| 7.622499942779541| 7.660714149475098| 7.585000038146973| 7.643214225769043|  6.45450496673584| 493729600|\n",
            "|2010-01-05| 7.664286136627197| 7.699643135070801|7.6160712242126465| 7.656428813934326| 6.465664863586426| 601904800|\n",
            "|2010-01-06| 7.656428813934326|  7.68678617477417| 7.526785850524902| 7.534643173217773| 6.362818717956543| 552160000|\n",
            "|2010-01-07|            7.5625|7.5714287757873535| 7.466071128845215| 7.520713806152344|6.3510565757751465| 477131200|\n",
            "|2010-01-08| 7.510714054107666|7.5714287757873535| 7.466429233551025| 7.570713996887207| 6.393280506134033| 447610800|\n",
            "|2010-01-11| 7.599999904632568| 7.607142925262451| 7.444643020629883| 7.503929138183594| 6.336884498596191| 462229600|\n",
            "|2010-01-12| 7.471070766448975| 7.491786003112793| 7.372142791748047|7.4185709953308105| 6.264800071716309| 594459600|\n",
            "|2010-01-13| 7.423929214477539| 7.533214092254639| 7.289286136627197| 7.523213863372803|6.3531670570373535| 605892000|\n",
            "|2010-01-14| 7.503929138183594|7.5164289474487305| 7.465000152587891| 7.479642868041992|   6.3163743019104| 432894000|\n",
            "|2010-01-15| 7.533214092254639| 7.557143211364746| 7.352499961853027| 7.354642868041992| 6.210813522338867| 594067600|\n",
            "|2010-01-19| 7.440357208251953| 7.685357093811035| 7.401429176330566| 7.679999828338623| 6.485568523406982| 730007600|\n",
            "|2010-01-20| 7.675356864929199| 7.698214054107666| 7.482142925262451|  7.56178617477417| 6.385741710662842| 612152800|\n",
            "|2010-01-21| 7.574285984039307| 7.618214130401611| 7.400356769561768| 7.431070804595947| 6.275354862213135| 608154400|\n",
            "|2010-01-22| 7.385000228881836| 7.410714149475098| 7.041429042816162|            7.0625|  5.96410608291626| 881767600|\n",
            "|2010-01-25| 7.232500076293945| 7.310713768005371|7.1496429443359375| 7.252500057220459|6.1245574951171875|1065699600|\n",
            "|2010-01-26|7.3553571701049805| 7.632500171661377| 7.235000133514404| 7.355000019073486| 6.211115837097168|1867110000|\n",
            "|2010-01-27| 7.387499809265137| 7.520713806152344| 7.126070976257324| 7.424285888671875| 6.269626140594482|1722568400|\n",
            "|2010-01-28| 7.318929195404053| 7.339285850524902| 7.096428871154785| 7.117499828338623| 6.010552883148193|1173502400|\n",
            "|2010-01-29| 7.181428909301758| 7.221428871154785| 6.794642925262451| 6.859285831451416| 5.792496681213379|1245952400|\n",
            "|2010-02-01| 6.870357036590576|               7.0|6.8321428298950195|6.9546427726745605| 5.873022556304932| 749876400|\n",
            "+----------+------------------+------------------+------------------+------------------+------------------+----------+\n",
            "only showing top 20 rows\n",
            "\n"
          ]
        }
      ]
    },
    {
      "cell_type": "code",
      "source": [
        "df.filter(df['Close'] < 500).select('Volume').show()"
      ],
      "metadata": {
        "colab": {
          "base_uri": "https://localhost:8080/"
        },
        "id": "bQQK3sJhC2bd",
        "outputId": "90366af6-26d8-4823-a037-f35427710a60"
      },
      "execution_count": 23,
      "outputs": [
        {
          "output_type": "stream",
          "name": "stdout",
          "text": [
            "+----------+\n",
            "|    Volume|\n",
            "+----------+\n",
            "| 493729600|\n",
            "| 601904800|\n",
            "| 552160000|\n",
            "| 477131200|\n",
            "| 447610800|\n",
            "| 462229600|\n",
            "| 594459600|\n",
            "| 605892000|\n",
            "| 432894000|\n",
            "| 594067600|\n",
            "| 730007600|\n",
            "| 612152800|\n",
            "| 608154400|\n",
            "| 881767600|\n",
            "|1065699600|\n",
            "|1867110000|\n",
            "|1722568400|\n",
            "|1173502400|\n",
            "|1245952400|\n",
            "| 749876400|\n",
            "+----------+\n",
            "only showing top 20 rows\n",
            "\n"
          ]
        }
      ]
    },
    {
      "cell_type": "code",
      "source": [
        "# Multiple conditions in spark dataframe\n",
        "df.filter((df['Close'] < 200) & (df['Open'] > 200)).show()"
      ],
      "metadata": {
        "colab": {
          "base_uri": "https://localhost:8080/"
        },
        "id": "vJS-GBDsC4Mh",
        "outputId": "2af20bd5-d52e-4855-879f-e3a2e5c62f51"
      },
      "execution_count": 27,
      "outputs": [
        {
          "output_type": "stream",
          "name": "stdout",
          "text": [
            "+----+----+----+---+-----+---------+------+\n",
            "|Date|Open|High|Low|Close|Adj Close|Volume|\n",
            "+----+----+----+---+-----+---------+------+\n",
            "+----+----+----+---+-----+---------+------+\n",
            "\n"
          ]
        }
      ]
    },
    {
      "cell_type": "code",
      "source": [
        "# Not operator\n",
        "df.filter((df['Close'] < 200) & ~(df['Open'] > 200)).show()"
      ],
      "metadata": {
        "colab": {
          "base_uri": "https://localhost:8080/"
        },
        "id": "GFk6Y5cWC8Yt",
        "outputId": "4d508c77-3bbf-45b2-dbee-1c8d7df458d6"
      },
      "execution_count": 28,
      "outputs": [
        {
          "output_type": "stream",
          "name": "stdout",
          "text": [
            "+----------+------------------+------------------+------------------+------------------+------------------+----------+\n",
            "|      Date|              Open|              High|               Low|             Close|         Adj Close|    Volume|\n",
            "+----------+------------------+------------------+------------------+------------------+------------------+----------+\n",
            "|2010-01-04| 7.622499942779541| 7.660714149475098| 7.585000038146973| 7.643214225769043|  6.45450496673584| 493729600|\n",
            "|2010-01-05| 7.664286136627197| 7.699643135070801|7.6160712242126465| 7.656428813934326| 6.465664863586426| 601904800|\n",
            "|2010-01-06| 7.656428813934326|  7.68678617477417| 7.526785850524902| 7.534643173217773| 6.362818717956543| 552160000|\n",
            "|2010-01-07|            7.5625|7.5714287757873535| 7.466071128845215| 7.520713806152344|6.3510565757751465| 477131200|\n",
            "|2010-01-08| 7.510714054107666|7.5714287757873535| 7.466429233551025| 7.570713996887207| 6.393280506134033| 447610800|\n",
            "|2010-01-11| 7.599999904632568| 7.607142925262451| 7.444643020629883| 7.503929138183594| 6.336884498596191| 462229600|\n",
            "|2010-01-12| 7.471070766448975| 7.491786003112793| 7.372142791748047|7.4185709953308105| 6.264800071716309| 594459600|\n",
            "|2010-01-13| 7.423929214477539| 7.533214092254639| 7.289286136627197| 7.523213863372803|6.3531670570373535| 605892000|\n",
            "|2010-01-14| 7.503929138183594|7.5164289474487305| 7.465000152587891| 7.479642868041992|   6.3163743019104| 432894000|\n",
            "|2010-01-15| 7.533214092254639| 7.557143211364746| 7.352499961853027| 7.354642868041992| 6.210813522338867| 594067600|\n",
            "|2010-01-19| 7.440357208251953| 7.685357093811035| 7.401429176330566| 7.679999828338623| 6.485568523406982| 730007600|\n",
            "|2010-01-20| 7.675356864929199| 7.698214054107666| 7.482142925262451|  7.56178617477417| 6.385741710662842| 612152800|\n",
            "|2010-01-21| 7.574285984039307| 7.618214130401611| 7.400356769561768| 7.431070804595947| 6.275354862213135| 608154400|\n",
            "|2010-01-22| 7.385000228881836| 7.410714149475098| 7.041429042816162|            7.0625|  5.96410608291626| 881767600|\n",
            "|2010-01-25| 7.232500076293945| 7.310713768005371|7.1496429443359375| 7.252500057220459|6.1245574951171875|1065699600|\n",
            "|2010-01-26|7.3553571701049805| 7.632500171661377| 7.235000133514404| 7.355000019073486| 6.211115837097168|1867110000|\n",
            "|2010-01-27| 7.387499809265137| 7.520713806152344| 7.126070976257324| 7.424285888671875| 6.269626140594482|1722568400|\n",
            "|2010-01-28| 7.318929195404053| 7.339285850524902| 7.096428871154785| 7.117499828338623| 6.010552883148193|1173502400|\n",
            "|2010-01-29| 7.181428909301758| 7.221428871154785| 6.794642925262451| 6.859285831451416| 5.792496681213379|1245952400|\n",
            "|2010-02-01| 6.870357036590576|               7.0|6.8321428298950195|6.9546427726745605| 5.873022556304932| 749876400|\n",
            "+----------+------------------+------------------+------------------+------------------+------------------+----------+\n",
            "only showing top 20 rows\n",
            "\n"
          ]
        }
      ]
    },
    {
      "cell_type": "code",
      "source": [
        "df.filter(df['Low'] == 213.0).show()"
      ],
      "metadata": {
        "colab": {
          "base_uri": "https://localhost:8080/"
        },
        "id": "UAUC5qErDMWs",
        "outputId": "d2c29309-f536-42f3-fdbd-f31c4c71262d"
      },
      "execution_count": 29,
      "outputs": [
        {
          "output_type": "stream",
          "name": "stdout",
          "text": [
            "+----------+------------------+-----------------+-----+-----------------+----------------+--------+\n",
            "|      Date|              Open|             High|  Low|            Close|       Adj Close|  Volume|\n",
            "+----------+------------------+-----------------+-----+-----------------+----------------+--------+\n",
            "|2024-06-18|217.58999633789062|218.6300048828125|213.0|214.2899932861328|214.042236328125|79943300|\n",
            "+----------+------------------+-----------------+-----+-----------------+----------------+--------+\n",
            "\n"
          ]
        }
      ]
    },
    {
      "cell_type": "code",
      "source": [
        "# The previous results are difficult to interpret, and often we need to organize\n",
        "# the data for further analysis\n",
        "df.filter(df['Low'] == 213.0).collect()"
      ],
      "metadata": {
        "colab": {
          "base_uri": "https://localhost:8080/"
        },
        "id": "My0BDDtxDOqy",
        "outputId": "8d4d0edf-01cd-4a67-ac52-41eca016f715"
      },
      "execution_count": 30,
      "outputs": [
        {
          "output_type": "execute_result",
          "data": {
            "text/plain": [
              "[Row(Date=datetime.date(2024, 6, 18), Open=217.58999633789062, High=218.6300048828125, Low=213.0, Close=214.2899932861328, Adj Close=214.042236328125, Volume=79943300)]"
            ]
          },
          "metadata": {},
          "execution_count": 30
        }
      ]
    },
    {
      "cell_type": "code",
      "source": [
        "result = df.filter(df['Low'] == 213.0).collect()\n",
        "result[0]"
      ],
      "metadata": {
        "colab": {
          "base_uri": "https://localhost:8080/"
        },
        "id": "LBi-fC-yDcpC",
        "outputId": "be091d18-5c63-49ff-858e-83f96a532032"
      },
      "execution_count": 32,
      "outputs": [
        {
          "output_type": "execute_result",
          "data": {
            "text/plain": [
              "Row(Date=datetime.date(2024, 6, 18), Open=217.58999633789062, High=218.6300048828125, Low=213.0, Close=214.2899932861328, Adj Close=214.042236328125, Volume=79943300)"
            ]
          },
          "metadata": {},
          "execution_count": 32
        }
      ]
    },
    {
      "cell_type": "code",
      "source": [
        "row = result[0]\n",
        "\n",
        "row.asDict()"
      ],
      "metadata": {
        "colab": {
          "base_uri": "https://localhost:8080/"
        },
        "id": "32LNi-uaDe0c",
        "outputId": "646ec487-db82-45a4-edcc-c02e65c50fd7"
      },
      "execution_count": 33,
      "outputs": [
        {
          "output_type": "execute_result",
          "data": {
            "text/plain": [
              "{'Date': datetime.date(2024, 6, 18),\n",
              " 'Open': 217.58999633789062,\n",
              " 'High': 218.6300048828125,\n",
              " 'Low': 213.0,\n",
              " 'Close': 214.2899932861328,\n",
              " 'Adj Close': 214.042236328125,\n",
              " 'Volume': 79943300}"
            ]
          },
          "metadata": {},
          "execution_count": 33
        }
      ]
    },
    {
      "cell_type": "code",
      "source": [
        "row.asDict()['Volume'] == result[0]['Volume']"
      ],
      "metadata": {
        "colab": {
          "base_uri": "https://localhost:8080/"
        },
        "id": "Fk9oXTpkDih4",
        "outputId": "85c1a3c9-2173-404a-ba6f-d3285c61ecfe"
      },
      "execution_count": 34,
      "outputs": [
        {
          "output_type": "execute_result",
          "data": {
            "text/plain": [
              "True"
            ]
          },
          "metadata": {},
          "execution_count": 34
        }
      ]
    },
    {
      "cell_type": "code",
      "source": [],
      "metadata": {
        "id": "mZaYpY36DmyY"
      },
      "execution_count": null,
      "outputs": []
    }
  ]
}